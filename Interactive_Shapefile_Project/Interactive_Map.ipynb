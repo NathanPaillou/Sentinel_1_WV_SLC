{
 "cells": [
  {
   "cell_type": "code",
   "execution_count": 25,
   "id": "dd1c8030",
   "metadata": {
    "scrolled": false
   },
   "outputs": [
    {
     "data": {
      "application/vnd.jupyter.widget-view+json": {
       "model_id": "43bebc7a247d49c6bc5dd2170a9d5ae5",
       "version_major": 2,
       "version_minor": 0
      },
      "text/plain": [
       "Map(center=[0, 0], controls=(ZoomControl(options=['position', 'zoom_in_text', 'zoom_in_title', 'zoom_out_text'…"
      ]
     },
     "metadata": {},
     "output_type": "display_data"
    }
   ],
   "source": [
    "#import required packages\n",
    "import os, json\n",
    "import geopandas as gpd\n",
    "from ipyleaflet import Map, GeoData, basemaps, LayersControl, ScaleControl, FullScreenControl, WidgetControl, SearchControl, Marker\n",
    "from ipywidgets import widgets, IntSlider, jslink\n",
    "from ipywidgets.embed import embed_minimal_html\n",
    "import re\n",
    "\n",
    "path='/hdd/Sentinel_1/WV_Image_01_2019_All/' #Here you have to change path to the Shapefiles \n",
    "createValidatedSaphefiles=0 # 0 If you want to create a Validated Shapefiles (i.e on land) for a faster and lighter\n",
    "                            # process, 1 if you have already done it\n",
    "\n",
    "def natural_sort(l): \n",
    "    convert = lambda text: int(text) if text.isdigit() else text.lower()\n",
    "    alphanum_key = lambda key: [convert(c) for c in re.split('([0-9]+)', key)]\n",
    "    return sorted(l, key=alphanum_key)\n",
    "\n",
    "#map object\n",
    "m = Map(center=(0.0,0.0), zoom = 10, \n",
    "        basemap = basemaps.OpenTopoMap)\n",
    "\n",
    "zoom_slider = IntSlider(description='Zoom level:', min=0, max=15, value=10)\n",
    "jslink((zoom_slider, 'value'), (m, 'zoom'))\n",
    "widgetControl = WidgetControl(widget=zoom_slider, position='topright')\n",
    "m.add_control(widgetControl)\n",
    "\n",
    "m.add_layer(basemaps.OpenStreetMap.Mapnik)\n",
    "m.add_control(ScaleControl(position='bottomleft'))\n",
    "m.add_control(FullScreenControl(position='topright'))\n",
    "\n",
    "\n",
    "shapefileList= natural_sort([file for file in os.listdir(path) if file.endswith('.shp')])\n",
    "\n",
    "def showMap(selShp):\n",
    "    selDf = gpd.read_file(path+selShp)\n",
    "    selDf.name=selShp\n",
    "    selDf.crs = \"EPSG:4326\"\n",
    "    geoDf = selDf.to_crs(4326)\n",
    "    for i in range(len(countries[\"geometry\"])-1):\n",
    "        if geoDf[\"geometry\"][0].intersects(countries[\"geometry\"][i]):\n",
    "            \n",
    "            if createValidatedShapefiles==1\n",
    "                validatedShapefiles.append(k)\n",
    "            else\n",
    "            lonCent = (geoDf.bounds.maxx + geoDf.bounds.minx).mean()/2\n",
    "            latCent = (geoDf.bounds.maxy + geoDf.bounds.miny).mean()/2\n",
    "            marker = Marker(title=selShp, location=(latCent,lonCent), draggable=False)\n",
    "            m.add_layer(marker);    \n",
    "            geoData = GeoData(geo_dataframe=geoDf, name=selShp,hover_style={'fillColor': 'red' , 'fillOpacity': 0.8},)\n",
    "            m.add_layer(geoData)\n",
    "            \n",
    "        \n",
    "countries = gpd.read_file(gpd.datasets.get_path('naturalearth_lowres'))\n",
    "\n",
    "if createdValidatedShapefiles==0\n",
    "    validatedShapefiles=[]\n",
    "    for file in shapefileList:\n",
    "    showMap(file)\n",
    "else\n",
    "    np.load(path+\"ValidatedShapefiles.npy\")\n",
    "    for k in range(len(validatedShapefiles)):\n",
    "    showMap(shapefileList[validatedShapefiles[k]])\n",
    "    \n",
    "\n",
    "m.center = (0,0)\n",
    "display(m)\n"
   ]
  },
  {
   "cell_type": "code",
   "execution_count": 19,
   "id": "2e4f6eb3",
   "metadata": {
    "scrolled": false
   },
   "outputs": [],
   "source": []
  },
  {
   "cell_type": "code",
   "execution_count": null,
   "id": "faf82f56",
   "metadata": {},
   "outputs": [],
   "source": []
  }
 ],
 "metadata": {
  "kernelspec": {
   "display_name": "Python 3 (ipykernel)",
   "language": "python",
   "name": "python3"
  },
  "language_info": {
   "codemirror_mode": {
    "name": "ipython",
    "version": 3
   },
   "file_extension": ".py",
   "mimetype": "text/x-python",
   "name": "python",
   "nbconvert_exporter": "python",
   "pygments_lexer": "ipython3",
   "version": "3.9.7"
  }
 },
 "nbformat": 4,
 "nbformat_minor": 5
}
